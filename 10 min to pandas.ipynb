{
 "cells": [
  {
   "cell_type": "code",
   "execution_count": 1,
   "id": "ee5d2eda",
   "metadata": {},
   "outputs": [],
   "source": [
    "import pandas as pd\n",
    "import numpy as np\n",
    "import matplotlib.pyplot as plt"
   ]
  },
  {
   "cell_type": "markdown",
   "id": "f5bd86d0",
   "metadata": {},
   "source": [
    "## Object Creation\n",
    "See the Data Structure Intro section\n",
    "\n",
    "Creating a Seriesby passing a list of values, letting pandas create a default integer index:"
   ]
  },
  {
   "cell_type": "code",
   "execution_count": 3,
   "id": "83c1c9e1",
   "metadata": {},
   "outputs": [
    {
     "data": {
      "text/plain": [
       "0    1.0\n",
       "1    2.0\n",
       "2    3.0\n",
       "3    NaN\n",
       "4    8.0\n",
       "5    9.0\n",
       "dtype: float64"
      ]
     },
     "execution_count": 3,
     "metadata": {},
     "output_type": "execute_result"
    }
   ],
   "source": [
    "Data=pd.Series([1,2,3,np.nan,8,9])\n",
    "Data"
   ]
  },
  {
   "cell_type": "markdown",
   "id": "b0376f86",
   "metadata": {},
   "source": [
    "Creating a DataFrame by passing a numpy array, with a datetime index and labeled columns:"
   ]
  },
  {
   "cell_type": "code",
   "execution_count": 19,
   "id": "7bdd819c",
   "metadata": {},
   "outputs": [
    {
     "data": {
      "text/plain": [
       "DatetimeIndex(['2013-01-01', '2013-01-02', '2013-01-03', '2013-01-04',\n",
       "               '2013-01-05', '2013-01-06', '2013-01-07', '2013-01-08',\n",
       "               '2013-01-09'],\n",
       "              dtype='datetime64[ns]', freq='D')"
      ]
     },
     "execution_count": 19,
     "metadata": {},
     "output_type": "execute_result"
    }
   ],
   "source": [
    "dates = pd.date_range('20130101', periods=9)\n",
    "dates"
   ]
  },
  {
   "cell_type": "code",
   "execution_count": 22,
   "id": "aa7e1c84",
   "metadata": {},
   "outputs": [
    {
     "data": {
      "text/html": [
       "<div>\n",
       "<style scoped>\n",
       "    .dataframe tbody tr th:only-of-type {\n",
       "        vertical-align: middle;\n",
       "    }\n",
       "\n",
       "    .dataframe tbody tr th {\n",
       "        vertical-align: top;\n",
       "    }\n",
       "\n",
       "    .dataframe thead th {\n",
       "        text-align: right;\n",
       "    }\n",
       "</style>\n",
       "<table border=\"1\" class=\"dataframe\">\n",
       "  <thead>\n",
       "    <tr style=\"text-align: right;\">\n",
       "      <th></th>\n",
       "      <th>A</th>\n",
       "      <th>B</th>\n",
       "      <th>C</th>\n",
       "      <th>D</th>\n",
       "      <th>E</th>\n",
       "      <th>F</th>\n",
       "    </tr>\n",
       "  </thead>\n",
       "  <tbody>\n",
       "    <tr>\n",
       "      <th>2013-01-01</th>\n",
       "      <td>-0.850439</td>\n",
       "      <td>0.539133</td>\n",
       "      <td>-0.938575</td>\n",
       "      <td>-0.126915</td>\n",
       "      <td>-0.775722</td>\n",
       "      <td>0.497870</td>\n",
       "    </tr>\n",
       "    <tr>\n",
       "      <th>2013-01-02</th>\n",
       "      <td>-0.611252</td>\n",
       "      <td>-0.585770</td>\n",
       "      <td>1.703598</td>\n",
       "      <td>-0.440040</td>\n",
       "      <td>-0.313330</td>\n",
       "      <td>0.799512</td>\n",
       "    </tr>\n",
       "    <tr>\n",
       "      <th>2013-01-03</th>\n",
       "      <td>0.049471</td>\n",
       "      <td>1.022674</td>\n",
       "      <td>-0.354651</td>\n",
       "      <td>-0.554498</td>\n",
       "      <td>-0.157343</td>\n",
       "      <td>0.008649</td>\n",
       "    </tr>\n",
       "    <tr>\n",
       "      <th>2013-01-04</th>\n",
       "      <td>-1.387169</td>\n",
       "      <td>0.902272</td>\n",
       "      <td>-0.460233</td>\n",
       "      <td>1.287058</td>\n",
       "      <td>-1.510111</td>\n",
       "      <td>1.896163</td>\n",
       "    </tr>\n",
       "    <tr>\n",
       "      <th>2013-01-05</th>\n",
       "      <td>0.640403</td>\n",
       "      <td>0.751601</td>\n",
       "      <td>0.094551</td>\n",
       "      <td>1.463067</td>\n",
       "      <td>-0.044717</td>\n",
       "      <td>-0.383676</td>\n",
       "    </tr>\n",
       "    <tr>\n",
       "      <th>2013-01-06</th>\n",
       "      <td>-0.772889</td>\n",
       "      <td>-0.186109</td>\n",
       "      <td>0.654406</td>\n",
       "      <td>0.657147</td>\n",
       "      <td>-0.143551</td>\n",
       "      <td>-0.808374</td>\n",
       "    </tr>\n",
       "    <tr>\n",
       "      <th>2013-01-07</th>\n",
       "      <td>-0.352034</td>\n",
       "      <td>0.720855</td>\n",
       "      <td>-0.181153</td>\n",
       "      <td>0.893369</td>\n",
       "      <td>0.036930</td>\n",
       "      <td>-0.479432</td>\n",
       "    </tr>\n",
       "    <tr>\n",
       "      <th>2013-01-08</th>\n",
       "      <td>-0.337225</td>\n",
       "      <td>-0.361423</td>\n",
       "      <td>0.387386</td>\n",
       "      <td>0.835356</td>\n",
       "      <td>0.898553</td>\n",
       "      <td>-0.377051</td>\n",
       "    </tr>\n",
       "    <tr>\n",
       "      <th>2013-01-09</th>\n",
       "      <td>-1.042196</td>\n",
       "      <td>-1.407030</td>\n",
       "      <td>-2.133524</td>\n",
       "      <td>0.379913</td>\n",
       "      <td>0.071988</td>\n",
       "      <td>-0.162769</td>\n",
       "    </tr>\n",
       "  </tbody>\n",
       "</table>\n",
       "</div>"
      ],
      "text/plain": [
       "                   A         B         C         D         E         F\n",
       "2013-01-01 -0.850439  0.539133 -0.938575 -0.126915 -0.775722  0.497870\n",
       "2013-01-02 -0.611252 -0.585770  1.703598 -0.440040 -0.313330  0.799512\n",
       "2013-01-03  0.049471  1.022674 -0.354651 -0.554498 -0.157343  0.008649\n",
       "2013-01-04 -1.387169  0.902272 -0.460233  1.287058 -1.510111  1.896163\n",
       "2013-01-05  0.640403  0.751601  0.094551  1.463067 -0.044717 -0.383676\n",
       "2013-01-06 -0.772889 -0.186109  0.654406  0.657147 -0.143551 -0.808374\n",
       "2013-01-07 -0.352034  0.720855 -0.181153  0.893369  0.036930 -0.479432\n",
       "2013-01-08 -0.337225 -0.361423  0.387386  0.835356  0.898553 -0.377051\n",
       "2013-01-09 -1.042196 -1.407030 -2.133524  0.379913  0.071988 -0.162769"
      ]
     },
     "execution_count": 22,
     "metadata": {},
     "output_type": "execute_result"
    }
   ],
   "source": [
    "pd.DataFrame(np.random.randn(9,6), index=dates, columns=list('ABCDEF'))"
   ]
  },
  {
   "cell_type": "markdown",
   "id": "ce6e55fd",
   "metadata": {},
   "source": [
    "Creating a DataFrameby passing a dict of objects that can be converted to series­like."
   ]
  },
  {
   "cell_type": "code",
   "execution_count": 32,
   "id": "8f65598b",
   "metadata": {},
   "outputs": [
    {
     "data": {
      "text/html": [
       "<div>\n",
       "<style scoped>\n",
       "    .dataframe tbody tr th:only-of-type {\n",
       "        vertical-align: middle;\n",
       "    }\n",
       "\n",
       "    .dataframe tbody tr th {\n",
       "        vertical-align: top;\n",
       "    }\n",
       "\n",
       "    .dataframe thead th {\n",
       "        text-align: right;\n",
       "    }\n",
       "</style>\n",
       "<table border=\"1\" class=\"dataframe\">\n",
       "  <thead>\n",
       "    <tr style=\"text-align: right;\">\n",
       "      <th></th>\n",
       "      <th>A</th>\n",
       "      <th>B</th>\n",
       "      <th>C</th>\n",
       "      <th>D</th>\n",
       "      <th>E</th>\n",
       "      <th>F</th>\n",
       "    </tr>\n",
       "  </thead>\n",
       "  <tbody>\n",
       "    <tr>\n",
       "      <th>0</th>\n",
       "      <td>1</td>\n",
       "      <td>2019-10-03</td>\n",
       "      <td>1.0</td>\n",
       "      <td>3</td>\n",
       "      <td>Test</td>\n",
       "      <td>foo</td>\n",
       "    </tr>\n",
       "    <tr>\n",
       "      <th>1</th>\n",
       "      <td>1</td>\n",
       "      <td>2019-10-03</td>\n",
       "      <td>1.0</td>\n",
       "      <td>3</td>\n",
       "      <td>Train</td>\n",
       "      <td>foo</td>\n",
       "    </tr>\n",
       "    <tr>\n",
       "      <th>2</th>\n",
       "      <td>1</td>\n",
       "      <td>2019-10-03</td>\n",
       "      <td>1.0</td>\n",
       "      <td>3</td>\n",
       "      <td>Test</td>\n",
       "      <td>foo</td>\n",
       "    </tr>\n",
       "    <tr>\n",
       "      <th>3</th>\n",
       "      <td>1</td>\n",
       "      <td>2019-10-03</td>\n",
       "      <td>1.0</td>\n",
       "      <td>3</td>\n",
       "      <td>Train</td>\n",
       "      <td>foo</td>\n",
       "    </tr>\n",
       "  </tbody>\n",
       "</table>\n",
       "</div>"
      ],
      "text/plain": [
       "   A          B    C  D      E    F\n",
       "0  1 2019-10-03  1.0  3   Test  foo\n",
       "1  1 2019-10-03  1.0  3  Train  foo\n",
       "2  1 2019-10-03  1.0  3   Test  foo\n",
       "3  1 2019-10-03  1.0  3  Train  foo"
      ]
     },
     "execution_count": 32,
     "metadata": {},
     "output_type": "execute_result"
    }
   ],
   "source": [
    "data=pd.DataFrame({'A': 1,\n",
    "                   'B': pd.Timestamp('20191003'),\n",
    "                   'C': pd.Series(1,index=list(range(4)),dtype='float'),\n",
    "                   'D': np.array([3] * 4,dtype='int32'),\n",
    "                   'E': pd.Categorical(['Test','Train','Test','Train']),\n",
    "                   'F': 'foo'})\n",
    "data"
   ]
  },
  {
   "cell_type": "code",
   "execution_count": null,
   "id": "8432ea3b",
   "metadata": {},
   "outputs": [],
   "source": [
    "data"
   ]
  },
  {
   "cell_type": "code",
   "execution_count": null,
   "id": "91516a30",
   "metadata": {},
   "outputs": [],
   "source": []
  },
  {
   "cell_type": "code",
   "execution_count": null,
   "id": "8bcc5ef1",
   "metadata": {},
   "outputs": [],
   "source": []
  }
 ],
 "metadata": {
  "kernelspec": {
   "display_name": "Python 3 (ipykernel)",
   "language": "python",
   "name": "python3"
  },
  "language_info": {
   "codemirror_mode": {
    "name": "ipython",
    "version": 3
   },
   "file_extension": ".py",
   "mimetype": "text/x-python",
   "name": "python",
   "nbconvert_exporter": "python",
   "pygments_lexer": "ipython3",
   "version": "3.9.7"
  }
 },
 "nbformat": 4,
 "nbformat_minor": 5
}
